{
  "nbformat": 4,
  "nbformat_minor": 0,
  "metadata": {
    "colab": {
      "name": "KerasNER.ipynb",
      "provenance": [],
      "collapsed_sections": [
        "rBcIBoot3ONP"
      ],
      "authorship_tag": "ABX9TyM8QExyjkVKUcD+pUwf1k0p",
      "include_colab_link": true
    },
    "kernelspec": {
      "display_name": "Python 3",
      "name": "python3"
    },
    "language_info": {
      "name": "python"
    }
  },
  "cells": [
    {
      "cell_type": "markdown",
      "metadata": {
        "id": "view-in-github",
        "colab_type": "text"
      },
      "source": [
        "<a href=\"https://colab.research.google.com/github/SasankaMallikarachchi/BiLSTM-NER-Sinhala/blob/main/KerasNER.ipynb\" target=\"_parent\"><img src=\"https://colab.research.google.com/assets/colab-badge.svg\" alt=\"Open In Colab\"/></a>"
      ]
    },
    {
      "cell_type": "code",
      "metadata": {
        "id": "piBZjVs3m6ot",
        "colab": {
          "base_uri": "https://localhost:8080/"
        },
        "outputId": "9085ff99-7aa0-4dd5-93a5-4a2024b317b3"
      },
      "source": [
        "from google.colab import drive\n",
        "drive.mount('/content/drive')"
      ],
      "execution_count": null,
      "outputs": [
        {
          "output_type": "stream",
          "name": "stdout",
          "text": [
            "Mounted at /content/drive\n"
          ]
        }
      ]
    },
    {
      "cell_type": "markdown",
      "metadata": {
        "id": "_LW2mVlDz_GJ"
      },
      "source": [
        "\n",
        "### import english corpus"
      ]
    },
    {
      "cell_type": "code",
      "metadata": {
        "colab": {
          "base_uri": "https://localhost:8080/",
          "height": 669
        },
        "id": "Jm8RX2IIn9Ld",
        "outputId": "3a9ad89e-7cd1-4582-988e-79d80135b1bf"
      },
      "source": [
        "import pandas as pd\n",
        "\n",
        "data = pd.read_csv(\"/content/drive/MyDrive/Research/DL/ner_dataset.csv\", encoding = \"latin1\")\n",
        "data = data.fillna(method=\"ffill\")\n",
        "data.head(20)"
      ],
      "execution_count": null,
      "outputs": [
        {
          "output_type": "execute_result",
          "data": {
            "text/html": [
              "<div>\n",
              "<style scoped>\n",
              "    .dataframe tbody tr th:only-of-type {\n",
              "        vertical-align: middle;\n",
              "    }\n",
              "\n",
              "    .dataframe tbody tr th {\n",
              "        vertical-align: top;\n",
              "    }\n",
              "\n",
              "    .dataframe thead th {\n",
              "        text-align: right;\n",
              "    }\n",
              "</style>\n",
              "<table border=\"1\" class=\"dataframe\">\n",
              "  <thead>\n",
              "    <tr style=\"text-align: right;\">\n",
              "      <th></th>\n",
              "      <th>Sentence #</th>\n",
              "      <th>Word</th>\n",
              "      <th>POS</th>\n",
              "      <th>Tag</th>\n",
              "    </tr>\n",
              "  </thead>\n",
              "  <tbody>\n",
              "    <tr>\n",
              "      <th>0</th>\n",
              "      <td>Sentence: 1</td>\n",
              "      <td>Thousands</td>\n",
              "      <td>NNS</td>\n",
              "      <td>O</td>\n",
              "    </tr>\n",
              "    <tr>\n",
              "      <th>1</th>\n",
              "      <td>Sentence: 1</td>\n",
              "      <td>of</td>\n",
              "      <td>IN</td>\n",
              "      <td>O</td>\n",
              "    </tr>\n",
              "    <tr>\n",
              "      <th>2</th>\n",
              "      <td>Sentence: 1</td>\n",
              "      <td>demonstrators</td>\n",
              "      <td>NNS</td>\n",
              "      <td>O</td>\n",
              "    </tr>\n",
              "    <tr>\n",
              "      <th>3</th>\n",
              "      <td>Sentence: 1</td>\n",
              "      <td>have</td>\n",
              "      <td>VBP</td>\n",
              "      <td>O</td>\n",
              "    </tr>\n",
              "    <tr>\n",
              "      <th>4</th>\n",
              "      <td>Sentence: 1</td>\n",
              "      <td>marched</td>\n",
              "      <td>VBN</td>\n",
              "      <td>O</td>\n",
              "    </tr>\n",
              "    <tr>\n",
              "      <th>5</th>\n",
              "      <td>Sentence: 1</td>\n",
              "      <td>through</td>\n",
              "      <td>IN</td>\n",
              "      <td>O</td>\n",
              "    </tr>\n",
              "    <tr>\n",
              "      <th>6</th>\n",
              "      <td>Sentence: 1</td>\n",
              "      <td>London</td>\n",
              "      <td>NNP</td>\n",
              "      <td>B-geo</td>\n",
              "    </tr>\n",
              "    <tr>\n",
              "      <th>7</th>\n",
              "      <td>Sentence: 1</td>\n",
              "      <td>to</td>\n",
              "      <td>TO</td>\n",
              "      <td>O</td>\n",
              "    </tr>\n",
              "    <tr>\n",
              "      <th>8</th>\n",
              "      <td>Sentence: 1</td>\n",
              "      <td>protest</td>\n",
              "      <td>VB</td>\n",
              "      <td>O</td>\n",
              "    </tr>\n",
              "    <tr>\n",
              "      <th>9</th>\n",
              "      <td>Sentence: 1</td>\n",
              "      <td>the</td>\n",
              "      <td>DT</td>\n",
              "      <td>O</td>\n",
              "    </tr>\n",
              "    <tr>\n",
              "      <th>10</th>\n",
              "      <td>Sentence: 1</td>\n",
              "      <td>war</td>\n",
              "      <td>NN</td>\n",
              "      <td>O</td>\n",
              "    </tr>\n",
              "    <tr>\n",
              "      <th>11</th>\n",
              "      <td>Sentence: 1</td>\n",
              "      <td>in</td>\n",
              "      <td>IN</td>\n",
              "      <td>O</td>\n",
              "    </tr>\n",
              "    <tr>\n",
              "      <th>12</th>\n",
              "      <td>Sentence: 1</td>\n",
              "      <td>Iraq</td>\n",
              "      <td>NNP</td>\n",
              "      <td>B-geo</td>\n",
              "    </tr>\n",
              "    <tr>\n",
              "      <th>13</th>\n",
              "      <td>Sentence: 1</td>\n",
              "      <td>and</td>\n",
              "      <td>CC</td>\n",
              "      <td>O</td>\n",
              "    </tr>\n",
              "    <tr>\n",
              "      <th>14</th>\n",
              "      <td>Sentence: 1</td>\n",
              "      <td>demand</td>\n",
              "      <td>VB</td>\n",
              "      <td>O</td>\n",
              "    </tr>\n",
              "    <tr>\n",
              "      <th>15</th>\n",
              "      <td>Sentence: 1</td>\n",
              "      <td>the</td>\n",
              "      <td>DT</td>\n",
              "      <td>O</td>\n",
              "    </tr>\n",
              "    <tr>\n",
              "      <th>16</th>\n",
              "      <td>Sentence: 1</td>\n",
              "      <td>withdrawal</td>\n",
              "      <td>NN</td>\n",
              "      <td>O</td>\n",
              "    </tr>\n",
              "    <tr>\n",
              "      <th>17</th>\n",
              "      <td>Sentence: 1</td>\n",
              "      <td>of</td>\n",
              "      <td>IN</td>\n",
              "      <td>O</td>\n",
              "    </tr>\n",
              "    <tr>\n",
              "      <th>18</th>\n",
              "      <td>Sentence: 1</td>\n",
              "      <td>British</td>\n",
              "      <td>JJ</td>\n",
              "      <td>B-gpe</td>\n",
              "    </tr>\n",
              "    <tr>\n",
              "      <th>19</th>\n",
              "      <td>Sentence: 1</td>\n",
              "      <td>troops</td>\n",
              "      <td>NNS</td>\n",
              "      <td>O</td>\n",
              "    </tr>\n",
              "  </tbody>\n",
              "</table>\n",
              "</div>"
            ],
            "text/plain": [
              "     Sentence #           Word  POS    Tag\n",
              "0   Sentence: 1      Thousands  NNS      O\n",
              "1   Sentence: 1             of   IN      O\n",
              "2   Sentence: 1  demonstrators  NNS      O\n",
              "3   Sentence: 1           have  VBP      O\n",
              "4   Sentence: 1        marched  VBN      O\n",
              "5   Sentence: 1        through   IN      O\n",
              "6   Sentence: 1         London  NNP  B-geo\n",
              "7   Sentence: 1             to   TO      O\n",
              "8   Sentence: 1        protest   VB      O\n",
              "9   Sentence: 1            the   DT      O\n",
              "10  Sentence: 1            war   NN      O\n",
              "11  Sentence: 1             in   IN      O\n",
              "12  Sentence: 1           Iraq  NNP  B-geo\n",
              "13  Sentence: 1            and   CC      O\n",
              "14  Sentence: 1         demand   VB      O\n",
              "15  Sentence: 1            the   DT      O\n",
              "16  Sentence: 1     withdrawal   NN      O\n",
              "17  Sentence: 1             of   IN      O\n",
              "18  Sentence: 1        British   JJ  B-gpe\n",
              "19  Sentence: 1         troops  NNS      O"
            ]
          },
          "metadata": {
            "tags": []
          },
          "execution_count": 2
        }
      ]
    },
    {
      "cell_type": "code",
      "metadata": {
        "colab": {
          "base_uri": "https://localhost:8080/"
        },
        "id": "aG9N3BDkoarV",
        "outputId": "f83e8d59-a6d8-4203-9b2e-10d452f53739"
      },
      "source": [
        "words = list(set(data[\"Word\"].values))\n",
        "words.append(\"ENDPAD\")\n",
        "n_words = len(words)\n",
        "n_words"
      ],
      "execution_count": null,
      "outputs": [
        {
          "output_type": "execute_result",
          "data": {
            "text/plain": [
              "35179"
            ]
          },
          "metadata": {
            "tags": []
          },
          "execution_count": 3
        }
      ]
    },
    {
      "cell_type": "code",
      "metadata": {
        "colab": {
          "base_uri": "https://localhost:8080/"
        },
        "id": "IKZlkMn7ovPA",
        "outputId": "22455e9b-b047-49c7-a292-243bc12f62f3"
      },
      "source": [
        "tags = list(set(data[\"Tag\"].values))\n",
        "n_tags = len(tags)\n",
        "n_tags"
      ],
      "execution_count": null,
      "outputs": [
        {
          "output_type": "execute_result",
          "data": {
            "text/plain": [
              "17"
            ]
          },
          "metadata": {
            "tags": []
          },
          "execution_count": 4
        }
      ]
    },
    {
      "cell_type": "code",
      "metadata": {
        "id": "ofVxzZEyo3xL"
      },
      "source": [
        "class SentenceGetter(object):\n",
        "    \n",
        "    def __init__(self, data):\n",
        "        self.n_sent = 1\n",
        "        self.data = data\n",
        "        self.empty = False\n",
        "        \n",
        "        agg_func = lambda s: [(w, p, t) for w, p, t in zip(s[\"Word\"].values.tolist(),\n",
        "                                                           s[\"POS\"].values.tolist(),\n",
        "                                                           s[\"Tag\"].values.tolist())]\n",
        "        self.grouped = self.data.groupby(\"Sentence #\").apply(agg_func)\n",
        "        self.sentences = [s for s in self.grouped]\n",
        "    \n",
        "    def get_next(self):\n",
        "        try:\n",
        "            s = self.grouped[\"Sentence: {}\".format(self.n_sent)]\n",
        "            self.n_sent += 1\n",
        "            return s\n",
        "        except:\n",
        "            return None"
      ],
      "execution_count": null,
      "outputs": []
    },
    {
      "cell_type": "markdown",
      "metadata": {
        "id": "FxNViTY7KKAK"
      },
      "source": [
        "\n",
        "###Sentence getter for Eglish corpus"
      ]
    },
    {
      "cell_type": "code",
      "metadata": {
        "colab": {
          "base_uri": "https://localhost:8080/"
        },
        "id": "MlGVqScKo-sa",
        "outputId": "a4af655b-07d9-476c-eea8-940f7474f933"
      },
      "source": [
        "import random\n",
        "\n",
        "getter = SentenceGetter(data)\n",
        "sentences = getter.sentences\n",
        "\n",
        "random.shuffle(sentences)\n",
        "len(sentences)"
      ],
      "execution_count": null,
      "outputs": [
        {
          "output_type": "execute_result",
          "data": {
            "text/plain": [
              "47959"
            ]
          },
          "metadata": {
            "tags": []
          },
          "execution_count": 6
        }
      ]
    },
    {
      "cell_type": "markdown",
      "metadata": {
        "id": "u4AFbyDfKWCJ"
      },
      "source": [
        "###Sentence getter for Sinhala corpus"
      ]
    },
    {
      "cell_type": "code",
      "metadata": {
        "colab": {
          "base_uri": "https://localhost:8080/"
        },
        "id": "Y7TBeq2_KWUS",
        "outputId": "93304722-c3b4-4326-a211-fc46dd1077ce"
      },
      "source": [
        "training_data = \"//content/drive/MyDrive/Research/taggedData/200k.txt\"\n",
        "import io\n",
        "import random\n",
        "\n",
        "def load_data(p):\n",
        "  f = io.open(p, \"r\")\n",
        "  sentences = []\n",
        "  target = []\n",
        "  data = f.read().split(\"\\n\\n\")\n",
        "  for i in data:\n",
        "    s = i.split(\"\\n\")\n",
        "    sen = []\n",
        "    t = []\n",
        "    for j in s:\n",
        "      w = j.split(\" \")\n",
        "      if len(w)==2:\n",
        "        sen.append(w)\n",
        "      else:\n",
        "        print(w)\n",
        "        print(s)\n",
        "    sentences.append(sen)\n",
        "  return sentences\n",
        "\n",
        "sin_sentences = load_data(training_data)\n",
        "print(sin_sentences[2])\n",
        "\n",
        "random.shuffle(sin_sentences)\n",
        "\n",
        "for a in sin_sentences:\n",
        "  for j in a:\n",
        "    if(j[1]==\"B-PER\" or j[1]==\"I-PER\"):\n",
        "      j[1]=\"PER\"\n",
        "    if(j[1]==\"B-LOC\" or j[1]==\"I-LOC\"):\n",
        "      j[1]=\"LOC\"\n",
        "    if(j[1]==\"B-ORG\" or j[1]==\"I-ORG\"):\n",
        "      j[1]=\"ORG\"\n",
        "\n",
        "print(sin_sentences[1])\n",
        "\n",
        "words_1 = []\n",
        "tags_1 = [\"O\",\"PER\",\"LOC\",\"ORG\"]\n",
        "for n in sin_sentences:\n",
        "  for k in n:\n",
        "    words_1.append(k[0])\n",
        "    # tags_1.append(k[1])\n",
        "\n",
        "\n",
        "def get_unique(my_list):\n",
        "  unique = []\n",
        "  for i in my_list:\n",
        "    if i not in unique:\n",
        "      unique.append(i)\n",
        "  return unique\n",
        "\n",
        "words = get_unique(words_1)\n",
        "tags = get_unique(tags_1)\n",
        "words.append(\"0\")\n",
        "n_tags = len(tags)\n",
        "n_words = len(words)\n",
        "print(n_words, n_tags)"
      ],
      "execution_count": null,
      "outputs": [
        {
          "output_type": "stream",
          "name": "stdout",
          "text": [
            "['']\n",
            "['', '']\n",
            "['']\n",
            "['', '']\n",
            "[['පාසල', 'O'], ['සම්බන්ධයෙන්', 'O'], ['පැවැත්වෙන', 'O'], ['විමර්ශනය', 'O'], ['නිසා', 'O'], ['මෙම', 'O'], ['අනුයුක්ත', 'O'], ['කිරීම', 'O'], ['සිදුකළ', 'O'], ['බව', 'O'], ['අධ්\\u200dයාපන', 'B-ORG'], ['අමාත්\\u200dයංශය', 'I-ORG'], ['කියයි', 'O'], ['.', 'O']]\n",
            "[['මහජන', 'O'], ['සේවය', 'O'], ['පිණිස', 'O'], ['කැපවිය', 'O'], ['යුතු', 'O'], ['පොලිස්', 'O'], ['නිල', 'O'], ['ඇඳුමේ', 'O'], ['අසූචි', 'O'], ['තවරා', 'O'], ['ගැනීම', 'O'], ['නිසා', 'O'], ['අද', 'O'], ['මේ', 'O'], ['ඕඅයිසී', 'O'], ['හාදයාට', 'O'], ['විඳවන්නට', 'O'], ['සිදුව', 'O'], ['ඇති', 'O'], ['බව', 'O'], ['පෙනේ', 'O'], ['.', 'O']]\n",
            "30343 4\n"
          ]
        }
      ]
    },
    {
      "cell_type": "code",
      "metadata": {
        "colab": {
          "base_uri": "https://localhost:8080/"
        },
        "id": "zX_alwBJyc8K",
        "outputId": "61aec99c-0300-41c3-f380-d00d6e1fe0da"
      },
      "source": [
        "len(sin_sentences)"
      ],
      "execution_count": null,
      "outputs": [
        {
          "output_type": "execute_result",
          "data": {
            "text/plain": [
              "10005"
            ]
          },
          "metadata": {},
          "execution_count": 3
        }
      ]
    },
    {
      "cell_type": "markdown",
      "metadata": {
        "id": "wvBvrNfDeqmC"
      },
      "source": [
        "###Plot sentence length"
      ]
    },
    {
      "cell_type": "code",
      "metadata": {
        "colab": {
          "base_uri": "https://localhost:8080/",
          "height": 329
        },
        "id": "pOg3Gpc8ep1y",
        "outputId": "af5d6d08-bf69-4e69-9b68-109b47004ad7"
      },
      "source": [
        " import matplotlib.pyplot as plt\n",
        "\n",
        "# csfont = {'fontname':'Times New Roman'}\n",
        "plt.rcParams[\"font.family\"] = \"Times New Roman\"\n",
        "\n",
        "\n",
        "plt.hist([len(s) for s in sin_sentences], bins=50)\n",
        "plt.title('Token per sentence')\n",
        "plt.xlabel('Len (number of token)')\n",
        "plt.ylabel('# samples')\n",
        "plt.show()"
      ],
      "execution_count": null,
      "outputs": [
        {
          "output_type": "stream",
          "name": "stderr",
          "text": [
            "findfont: Font family ['Times New Roman'] not found. Falling back to DejaVu Sans.\n",
            "findfont: Font family ['Times New Roman'] not found. Falling back to DejaVu Sans.\n"
          ]
        },
        {
          "output_type": "display_data",
          "data": {
            "image/png": "[encoded data removed]",
            "text/plain": [
              "<Figure size 432x288 with 1 Axes>"
            ]
          },
          "metadata": {
            "needs_background": "light"
          }
        }
      ]
    },
    {
      "cell_type": "markdown",
      "metadata": {
        "id": "wAYcaHwVZ-nP"
      },
      "source": [
        "### Generate index"
      ]
    },
    {
      "cell_type": "code",
      "metadata": {
        "id": "CxPAguTOpMPN"
      },
      "source": [
        "word2idx = {w: i for i, w in enumerate(words)}\n",
        "tag2idx = {t: i for i, t in enumerate(tags)}\n",
        "\n",
        "idx2word = {i: w for w, i in word2idx.items()}\n",
        "idx2tag = {i: w for w, i in tag2idx.items()}"
      ],
      "execution_count": null,
      "outputs": []
    },
    {
      "cell_type": "code",
      "metadata": {
        "colab": {
          "base_uri": "https://localhost:8080/"
        },
        "id": "lr_MktL0pTwb",
        "outputId": "29e4c3df-584f-4fe2-c24c-a8dcc00cef0b"
      },
      "source": [
        "print(word2idx[\"ඔබ\"])\n",
        "print(tag2idx[\"PER\"])\n",
        "\n",
        "print(idx2word[1])\n",
        "print(idx2tag[0])\n",
        "print(idx2tag[1])\n",
        "print(idx2tag[2])\n",
        "print(idx2tag[3])"
      ],
      "execution_count": null,
      "outputs": [
        {
          "output_type": "stream",
          "name": "stdout",
          "text": [
            "7211\n",
            "1\n",
            "අය\n",
            "O\n",
            "PER\n",
            "LOC\n",
            "ORG\n"
          ]
        }
      ]
    },
    {
      "cell_type": "code",
      "metadata": {
        "id": "Tw5z8he5pfEu"
      },
      "source": [
        "X = [[word2idx[w[0]] for w in s] for s in sin_sentences]\n",
        "y = [[tag2idx[w[1]] for w in s] for s in sin_sentences]\n",
        "\n",
        "# X = [[word2idx[w[0]] for w in s] for s in sentences]\n",
        "# y = [[tag2idx[w[2]] for w in s] for s in sentences]"
      ],
      "execution_count": null,
      "outputs": []
    },
    {
      "cell_type": "code",
      "metadata": {
        "id": "_IR8CFzvqJP7"
      },
      "source": [
        "from keras.preprocessing.sequence import pad_sequences\n",
        "\n",
        "max_len = 50\n",
        "\n",
        "# value = n-words-1 which is 'ENDPAD'or index 35178\n",
        "X = pad_sequences(maxlen=max_len, sequences=X, padding=\"post\", value=n_words - 1)\n",
        "y = pad_sequences(maxlen=max_len, sequences=y, padding=\"post\", value=tag2idx[\"O\"])"
      ],
      "execution_count": null,
      "outputs": []
    },
    {
      "cell_type": "code",
      "metadata": {
        "id": "74Vd9lI5s-G0"
      },
      "source": [
        "import keras\n",
        "import keras.utils\n",
        "from tensorflow.keras import utils as np_utils\n",
        "from tensorflow.keras.utils import to_categorical\n",
        "# from keras_visualizer import visualizer "
      ],
      "execution_count": null,
      "outputs": []
    },
    {
      "cell_type": "code",
      "metadata": {
        "id": "mjQ-orEet2cs"
      },
      "source": [
        "from sklearn.model_selection import train_test_split\n",
        "\n",
        "X_train, X_test, y_train, y_test = train_test_split(X, y, test_size=0.1)"
      ],
      "execution_count": null,
      "outputs": []
    },
    {
      "cell_type": "code",
      "metadata": {
        "id": "3vkHAWfAsd5p"
      },
      "source": [
        "# One hot encoding\n",
        "# n_tags = 17\n",
        "y_train = [to_categorical(i, num_classes=n_tags) for i in y_train]"
      ],
      "execution_count": null,
      "outputs": []
    },
    {
      "cell_type": "code",
      "metadata": {
        "colab": {
          "base_uri": "https://localhost:8080/"
        },
        "id": "2hUOiPJCspLI",
        "outputId": "a5694d46-4bef-4464-a298-58490fab3b28"
      },
      "source": [
        "y[0].shape\n",
        "# y[0]"
      ],
      "execution_count": null,
      "outputs": [
        {
          "output_type": "execute_result",
          "data": {
            "text/plain": [
              "(50,)"
            ]
          },
          "metadata": {},
          "execution_count": 12
        }
      ]
    },
    {
      "cell_type": "code",
      "metadata": {
        "colab": {
          "base_uri": "https://localhost:8080/"
        },
        "id": "50_6_wppt8Lk",
        "outputId": "7d93c986-1ab7-4fb4-a0c1-0d818a23f184"
      },
      "source": [
        "y_test[10]"
      ],
      "execution_count": null,
      "outputs": [
        {
          "output_type": "execute_result",
          "data": {
            "text/plain": [
              "array([0, 0, 0, 0, 0, 0, 0, 0, 0, 0, 0, 0, 0, 0, 0, 0, 0, 0, 0, 0, 0, 0,\n",
              "       0, 0, 0, 0, 0, 0, 0, 0, 0, 0, 0, 0, 0, 0, 0, 0, 0, 0, 0, 0, 0, 0,\n",
              "       0, 0, 0, 0, 0, 0], dtype=int32)"
            ]
          },
          "metadata": {},
          "execution_count": 13
        }
      ]
    },
    {
      "cell_type": "code",
      "metadata": {
        "id": "LtP1K7zDul2m"
      },
      "source": [
        "from keras.models import Model, Input\n",
        "from keras.layers.merge import add\n",
        "from keras.layers import LSTM, Embedding, Dense, TimeDistributed, Dropout, Bidirectional, Lambda\n",
        "\n",
        "from sklearn.model_selection import train_test_split\n",
        "import tensorflow as tf\n",
        "import tensorflow_hub as hub\n",
        "from keras import backend as K\n",
        "import numpy as np\n",
        "\n",
        "# !pip install git+https://www.github.com/keras-team/keras-contrib.git\n",
        "\n",
        "# ! pip -q install git+https://www.github.com/keras-team/keras-contrib.git sklearn-crfsuite\n",
        "# from keras_contrib.layers import CRF\n"
      ],
      "execution_count": null,
      "outputs": []
    },
    {
      "cell_type": "code",
      "metadata": {
        "id": "1KDLIRF0r5Fc"
      },
      "source": [
        "# ! pip install keras-crf\n",
        "# from keras_crf import CRFModel"
      ],
      "execution_count": null,
      "outputs": []
    },
    {
      "cell_type": "code",
      "metadata": {
        "id": "RycUOuxWVMq5"
      },
      "source": [
        "# ! pip install tf2crf\n",
        "\n",
        "# # from tf2CRF import CRF\n",
        "# from tensorflow.keras.models import Model\n",
        "# from tf2crf import CRF, ModelWithCRFLoss"
      ],
      "execution_count": null,
      "outputs": []
    },
    {
      "cell_type": "code",
      "metadata": {
        "id": "hOjYqpxX90L6"
      },
      "source": [
        "# from keras_contrib.layers import CRF"
      ],
      "execution_count": null,
      "outputs": []
    },
    {
      "cell_type": "code",
      "metadata": {
        "id": "NyZ92BkwuCyu"
      },
      "source": [
        "input = Input(shape=(max_len,))\n",
        "model = Embedding(input_dim=n_words, output_dim=50, input_length=max_len)(input)\n",
        "model = Dropout(0.5)(model)\n",
        "model = Bidirectional(LSTM(units=45, return_sequences=True, recurrent_dropout=0.3))(model)\n",
        "# additionl layer\n",
        "# model = LSTM(units=50, return_sequences=True,  recurrent_dropout=0.4)(model)\n",
        "model = Dropout(0.4)(model)\n",
        "# model = Dense(n_tags)(model)\n",
        "out = TimeDistributed(Dense(n_tags, activation=\"softmax\"))(model)  # softmax output layer\n",
        "\n",
        "# crf = CRF(n_tags)\n",
        "# out = crf(model)\n",
        "\n",
        "model = Model(input, out)\n",
        "\n",
        "opt = tf.keras.optimizers.Adam(learning_rate=0.01, decay=1e-6)\n",
        "model.compile(optimizer=opt, loss=\"categorical_crossentropy\", metrics=[\"accuracy\"]) "
      ],
      "execution_count": null,
      "outputs": []
    },
    {
      "cell_type": "code",
      "metadata": {
        "colab": {
          "base_uri": "https://localhost:8080/"
        },
        "id": "QCbNwg5ZuHh4",
        "outputId": "88c2d86b-2f09-4406-9fdf-83b0658d87c2"
      },
      "source": [
        "model.summary()"
      ],
      "execution_count": null,
      "outputs": [
        {
          "output_type": "stream",
          "name": "stdout",
          "text": [
            "Model: \"model_7\"\n",
            "_________________________________________________________________\n",
            "Layer (type)                 Output Shape              Param #   \n",
            "=================================================================\n",
            "input_8 (InputLayer)         [(None, 50)]              0         \n",
            "_________________________________________________________________\n",
            "embedding_7 (Embedding)      (None, 50, 50)            1517150   \n",
            "_________________________________________________________________\n",
            "dropout_14 (Dropout)         (None, 50, 50)            0         \n",
            "_________________________________________________________________\n",
            "bidirectional_7 (Bidirection (None, 50, 90)            34560     \n",
            "_________________________________________________________________\n",
            "dropout_15 (Dropout)         (None, 50, 90)            0         \n",
            "_________________________________________________________________\n",
            "time_distributed_7 (TimeDist (None, 50, 4)             364       \n",
            "=================================================================\n",
            "Total params: 1,552,074\n",
            "Trainable params: 1,552,074\n",
            "Non-trainable params: 0\n",
            "_________________________________________________________________\n"
          ]
        }
      ]
    },
    {
      "cell_type": "code",
      "metadata": {
        "colab": {
          "base_uri": "https://localhost:8080/",
          "height": 644
        },
        "id": "QOCcsQH8k8ak",
        "outputId": "61ec3fb9-e273-4b8f-f051-4077a324ebe2"
      },
      "source": [
        "from tensorflow.keras.utils import plot_model\n",
        "plot_model(model, to_file='/content/drive/MyDrive/Research/DL/model4.png', show_shapes=True)"
      ],
      "execution_count": null,
      "outputs": [
        {
          "output_type": "execute_result",
          "data": {
            "image/png": "[encoded data removed]",
            "text/plain": [
              "<IPython.core.display.Image object>"
            ]
          },
          "metadata": {},
          "execution_count": 104
        }
      ]
    },
    {
      "cell_type": "code",
      "metadata": {
        "colab": {
          "base_uri": "https://localhost:8080/"
        },
        "id": "p069WsMyuyIj",
        "outputId": "bd31c515-d5b9-44ae-c636-abd2b50191ec"
      },
      "source": [
        "history = model.fit(X_train, np.array(y_train), \n",
        "                    batch_size=32, \n",
        "                    epochs=10, \n",
        "                    validation_split=0.2,\n",
        "                    verbose=2)"
      ],
      "execution_count": null,
      "outputs": [
        {
          "output_type": "stream",
          "name": "stdout",
          "text": [
            "Epoch 1/10\n",
            "Epoch 2/10\n",
            "226/226 - 25s - loss: 0.0465 - accuracy: 0.9841 - val_loss: 0.0489 - val_accuracy: 0.9845\n",
            "Epoch 3/10\n",
            "226/226 - 25s - loss: 0.0282 - accuracy: 0.9905 - val_loss: 0.0474 - val_accuracy: 0.9854\n",
            "Epoch 4/10\n",
            "226/226 - 25s - loss: 0.0219 - accuracy: 0.9926 - val_loss: 0.0509 - val_accuracy: 0.9856\n",
            "Epoch 5/10\n",
            "226/226 - 25s - loss: 0.0179 - accuracy: 0.9939 - val_loss: 0.0525 - val_accuracy: 0.9851\n",
            "Epoch 6/10\n",
            "226/226 - 25s - loss: 0.0159 - accuracy: 0.9946 - val_loss: 0.0528 - val_accuracy: 0.9852\n",
            "Epoch 7/10\n",
            "226/226 - 25s - loss: 0.0139 - accuracy: 0.9953 - val_loss: 0.0569 - val_accuracy: 0.9853\n",
            "Epoch 8/10\n",
            "226/226 - 25s - loss: 0.0128 - accuracy: 0.9957 - val_loss: 0.0584 - val_accuracy: 0.9851\n",
            "Epoch 9/10\n",
            "226/226 - 25s - loss: 0.0114 - accuracy: 0.9963 - val_loss: 0.0605 - val_accuracy: 0.9850\n",
            "Epoch 10/10\n",
            "226/226 - 25s - loss: 0.0104 - accuracy: 0.9964 - val_loss: 0.0687 - val_accuracy: 0.9850\n"
          ]
        }
      ]
    },
    {
      "cell_type": "code",
      "metadata": {
        "colab": {
          "base_uri": "https://localhost:8080/",
          "height": 541
        },
        "id": "L0vJHMfZu17V",
        "outputId": "d3392579-513d-489a-a3a4-8edfb1628a57"
      },
      "source": [
        "def plot_graphs(history, string):\n",
        "  plt.plot(history.history[string])\n",
        "  plt.plot(history.history['val_'+string])\n",
        "  plt.xlabel(\"Epochs\")\n",
        "  plt.ylabel(string)\n",
        "  plt.legend([string, 'val_'+string])\n",
        "  plt.show()\n",
        "  \n",
        "plot_graphs(history, \"accuracy\")\n",
        "plot_graphs(history, \"loss\")"
      ],
      "execution_count": null,
      "outputs": [
        {
          "output_type": "display_data",
          "data": {
            "image/png": "[encoded data removed]",
            "text/plain": [
              "<Figure size 432x288 with 1 Axes>"
            ]
          },
          "metadata": {
            "needs_background": "light"
          }
        },
        {
          "output_type": "display_data",
          "data": {
            "image/png": "[encoded data removed]",
            "text/plain": [
              "<Figure size 432x288 with 1 Axes>"
            ]
          },
          "metadata": {
            "needs_background": "light"
          }
        }
      ]
    },
    {
      "cell_type": "code",
      "metadata": {
        "colab": {
          "base_uri": "https://localhost:8080/"
        },
        "id": "S4eX8Wvhp1nR",
        "outputId": "0915985c-8def-4ccd-df1e-3d7f3f5cfacb"
      },
      "source": [
        "X_test[5]\n",
        "#  වෙබ් මත ඕනෑම තැනක, ඔබ තෝරන භාෂාවෙන් ටයිප් කිරීම"
      ],
      "execution_count": null,
      "outputs": [
        {
          "output_type": "execute_result",
          "data": {
            "text/plain": [
              "array([ 2536,  3047,   292,  3048,   115,  2331,  3049,  3050,   814,\n",
              "        1503,    67,    38,  1510,   858,    19, 30342, 30342, 30342,\n",
              "       30342, 30342, 30342, 30342, 30342, 30342, 30342, 30342, 30342,\n",
              "       30342, 30342, 30342, 30342, 30342, 30342, 30342, 30342, 30342,\n",
              "       30342, 30342, 30342, 30342, 30342, 30342, 30342, 30342, 30342,\n",
              "       30342, 30342, 30342, 30342, 30342], dtype=int32)"
            ]
          },
          "metadata": {},
          "execution_count": 107
        }
      ]
    },
    {
      "cell_type": "code",
      "metadata": {
        "colab": {
          "base_uri": "https://localhost:8080/"
        },
        "id": "N_AtD3a6vEEo",
        "outputId": "f75072d8-7ac0-4c12-a5ed-0813933df506"
      },
      "source": [
        "i = 241\n",
        "p = model.predict(np.array(X_test))\n",
        "p = np.argmax(p, axis=-1)\n",
        "\n",
        "# print(\"{:15} {:5}\".format(\"Word\",  \"Pred\"))\n",
        "# for w, pred in zip(X_test[i], p[0]):\n",
        "#     print(\"{:15}: {}\".format(words[w], tags[pred]))\n",
        "print(X_test[4])"
      ],
      "execution_count": null,
      "outputs": [
        {
          "output_type": "stream",
          "name": "stdout",
          "text": [
            "[ 9790  4083   980 16536 16537   790  1882   226   998   441    19 30342\n",
            " 30342 30342 30342 30342 30342 30342 30342 30342 30342 30342 30342 30342\n",
            " 30342 30342 30342 30342 30342 30342 30342 30342 30342 30342 30342 30342\n",
            " 30342 30342 30342 30342 30342 30342 30342 30342 30342 30342 30342 30342\n",
            " 30342 30342]\n"
          ]
        }
      ]
    },
    {
      "cell_type": "code",
      "metadata": {
        "colab": {
          "base_uri": "https://localhost:8080/"
        },
        "id": "LtG59xhUY1jO",
        "outputId": "abe0be22-36ff-4283-a741-1bf19274ba58"
      },
      "source": [
        "p.shape\n",
        "print(p[15])\n",
        "print(y_test[15])\n",
        "# print(np.argmax(y_test[3],axis=1))\n",
        "# new_y = np.argmax(y_test,axis=1)\n",
        "type(p)\n",
        "y_dsh = y_test.tolist()\n",
        "p_dsh = p.tolist()"
      ],
      "execution_count": null,
      "outputs": [
        {
          "output_type": "stream",
          "name": "stdout",
          "text": [
            "[0 0 0 0 1 0 0 0 0 0 0 0 0 0 0 0 0 0 2 0 0 0 0 0 0 0 0 0 0 0 0 0 0 0 0 0 0\n",
            " 0 0 0 0 0 0 0 0 0 0 0 0 0]\n",
            "[0 0 0 0 1 0 0 0 0 0 0 0 0 0 0 0 0 0 2 0 0 0 0 0 0 0 0 0 0 0 0 0 0 0 0 0 0\n",
            " 0 0 0 0 0 0 0 0 0 0 0 0 0]\n"
          ]
        }
      ]
    },
    {
      "cell_type": "code",
      "metadata": {
        "colab": {
          "base_uri": "https://localhost:8080/"
        },
        "id": "tfWO7kb9byVu",
        "outputId": "7484c3c5-c57c-4d2a-b430-271e5e7374ec"
      },
      "source": [
        "y_dsh[10][2]"
      ],
      "execution_count": null,
      "outputs": [
        {
          "output_type": "execute_result",
          "data": {
            "text/plain": [
              "0"
            ]
          },
          "metadata": {},
          "execution_count": 110
        }
      ]
    },
    {
      "cell_type": "code",
      "metadata": {
        "id": "pt02d4MrlhLa"
      },
      "source": [
        "def my_replace(arr1):\n",
        "  one_dlist = []\n",
        "  for i in arr1:\n",
        "    for j in i:\n",
        "      one_dlist.append(j)\n",
        "\n",
        "  return one_dlist\n",
        "\n",
        "prediction = my_replace(p_dsh)\n",
        "actual = my_replace(y_dsh)"
      ],
      "execution_count": null,
      "outputs": []
    },
    {
      "cell_type": "code",
      "metadata": {
        "id": "MvnBjN7caC8c"
      },
      "source": [
        "import numpy as np\n",
        "from sklearn.metrics import precision_recall_fscore_support\n",
        "from sklearn.metrics import confusion_matrix\n",
        "from sklearn.metrics import accuracy_score\n",
        "import io\n",
        "\n",
        "def evaluation(t, p):\n",
        "  print(len(t),len(p))\n",
        "  print(\"Macro\")\n",
        "  print(precision_recall_fscore_support(t, p, average='macro'))\n",
        "  print(\"Micro\")\n",
        "  print(precision_recall_fscore_support(t, p, average='micro', labels=[1,2,3]))\n",
        "  print(\"Label wise\")\n",
        "  print(precision_recall_fscore_support(t, p, average=None,  labels=[1,2,3]))\n",
        "  print(\"Confusion Matrix\")\n",
        "  print(confusion_matrix(t, p))\n",
        "  print(\"accuracy\")\n",
        "  print(accuracy_score(t,p))\n",
        "\n",
        "# labels=['PER','LOC', 'ORG']\n",
        "\n",
        "def count(lst, term):\n",
        "  c = 0\n",
        "  for i in lst:\n",
        "    if i == term:\n",
        "      c+=1\n",
        "  return c"
      ],
      "execution_count": null,
      "outputs": []
    },
    {
      "cell_type": "code",
      "metadata": {
        "colab": {
          "base_uri": "https://localhost:8080/"
        },
        "id": "usxIFARWab6U",
        "outputId": "3f1c647d-a42e-4ce7-d8ba-b2dd9958d29a"
      },
      "source": [
        "print(count(actual, 1))\n",
        "print(count(actual, 2))\n",
        "print(count(actual, 3))\n",
        "\n",
        "evaluation(actual, prediction)"
      ],
      "execution_count": null,
      "outputs": [
        {
          "output_type": "stream",
          "name": "stdout",
          "text": [
            "544\n",
            "722\n",
            "632\n",
            "50050 50050\n",
            "Macro\n",
            "(0.870534051815112, 0.7834046981556055, 0.8233079637438868, None)\n",
            "Micro\n",
            "(0.8223443223443223, 0.7096944151738672, 0.7618778280542986, None)\n",
            "Label wise\n",
            "(array([0.93832599, 0.78636364, 0.76717557]), array([0.78308824, 0.71883657, 0.63607595]), array([0.85370741, 0.75108538, 0.69550173]), array([544, 722, 632]))\n",
            "Confusion Matrix\n",
            "[[47941    19    92   100]\n",
            " [  105   426     7     6]\n",
            " [  182     5   519    16]\n",
            " [  184     4    42   402]]\n",
            "accuracy\n",
            "0.9847752247752247\n"
          ]
        }
      ]
    },
    {
      "cell_type": "markdown",
      "metadata": {
        "id": "rBcIBoot3ONP"
      },
      "source": [
        "##K-fold cross validation"
      ]
    },
    {
      "cell_type": "code",
      "metadata": {
        "id": "vJqF-yK5aY_5"
      },
      "source": [
        "from sklearn.model_selection import KFold\n",
        "\n",
        "num_folds = 5\n",
        "kfold = KFold(n_splits=num_folds, shuffle=True)\n",
        "\n",
        "y= np.asarray(y)\n",
        "\n",
        "inputs = X\n",
        "targets = y\n"
      ],
      "execution_count": null,
      "outputs": []
    },
    {
      "cell_type": "code",
      "metadata": {
        "colab": {
          "base_uri": "https://localhost:8080/",
          "height": 510
        },
        "id": "S3JALWiLvG2E",
        "outputId": "b997f532-b2ce-49c4-89d0-7a5bfebd51b7"
      },
      "source": [
        "from sklearn.model_selection import KFold\n",
        "\n",
        "num_folds = 5\n",
        "kfold = KFold(n_splits=num_folds, shuffle=True)\n",
        "\n",
        "y= np.asarray(y)\n",
        "\n",
        "inputs = X\n",
        "targets = y\n",
        "\n",
        "acc_per_fold = []\n",
        "loss_per_fold = []\n",
        "\n",
        "fold_no = 1\n",
        "for train, test in kfold.split(inputs, targets):\n",
        "  print('------------------------------------------------------------------------')\n",
        "  print(f'Training for fold {fold_no} ...')\n",
        "\n",
        "  history = model.fit(X_train, np.array(y_train), \n",
        "                    batch_size=32, \n",
        "                    epochs=10, \n",
        "                    validation_split=0.2,\n",
        "                    verbose=1)\n",
        "  plot_graphs(history, \"accuracy\")\n",
        "  plot_graphs(history,\"loss\")\n",
        "  \n",
        "  scores = model.evaluate(inputs[test], targets[test], verbose=0)\n",
        "  print(f'Score for fold {fold_no}: {model.metrics_names[0]} of {scores[0]}; {model.metrics_names[1]} of {scores[1]*100}%')\n",
        "  acc_per_fold.append(scores[1] * 100)\n",
        "  loss_per_fold.append(scores[0])\n",
        "\n",
        "  # Increase fold number\n",
        "  fold_no = fold_no + 1"
      ],
      "execution_count": null,
      "outputs": [
        {
          "output_type": "stream",
          "name": "stdout",
          "text": [
            "------------------------------------------------------------------------\n",
            "Training for fold 1 ...\n",
            "Epoch 1/10\n",
            "226/226 [==============================] - 43s 192ms/step - loss: 0.0465 - accuracy: 0.9846 - val_loss: 0.0721 - val_accuracy: 0.9822\n",
            "Epoch 2/10\n",
            "226/226 [==============================] - 44s 193ms/step - loss: 0.0459 - accuracy: 0.9847 - val_loss: 0.0698 - val_accuracy: 0.9824\n",
            "Epoch 3/10\n",
            "147/226 [==================>...........] - ETA: 14s - loss: 0.0484 - accuracy: 0.9838"
          ]
        },
        {
          "output_type": "error",
          "ename": "KeyboardInterrupt",
          "evalue": "ignored",
          "traceback": [
            "\u001b[0;31m---------------------------------------------------------------------------\u001b[0m",
            "\u001b[0;31mKeyboardInterrupt\u001b[0m                         Traceback (most recent call last)",
            "\u001b[0;32m<ipython-input-31-eb51cb8c5d65>\u001b[0m in \u001b[0;36m<module>\u001b[0;34m()\u001b[0m\n\u001b[1;32m     21\u001b[0m                     \u001b[0mepochs\u001b[0m\u001b[0;34m=\u001b[0m\u001b[0;36m10\u001b[0m\u001b[0;34m,\u001b[0m\u001b[0;34m\u001b[0m\u001b[0;34m\u001b[0m\u001b[0m\n\u001b[1;32m     22\u001b[0m                     \u001b[0mvalidation_split\u001b[0m\u001b[0;34m=\u001b[0m\u001b[0;36m0.2\u001b[0m\u001b[0;34m,\u001b[0m\u001b[0;34m\u001b[0m\u001b[0;34m\u001b[0m\u001b[0m\n\u001b[0;32m---> 23\u001b[0;31m                     verbose=1)\n\u001b[0m\u001b[1;32m     24\u001b[0m   \u001b[0mplot_graphs\u001b[0m\u001b[0;34m(\u001b[0m\u001b[0mhistory\u001b[0m\u001b[0;34m,\u001b[0m \u001b[0;34m\"accuracy\"\u001b[0m\u001b[0;34m)\u001b[0m\u001b[0;34m\u001b[0m\u001b[0;34m\u001b[0m\u001b[0m\n\u001b[1;32m     25\u001b[0m   \u001b[0mplot_graphs\u001b[0m\u001b[0;34m(\u001b[0m\u001b[0mhistory\u001b[0m\u001b[0;34m,\u001b[0m\u001b[0;34m\"loss\"\u001b[0m\u001b[0;34m)\u001b[0m\u001b[0;34m\u001b[0m\u001b[0;34m\u001b[0m\u001b[0m\n",
            "\u001b[0;32m/usr/local/lib/python3.7/dist-packages/keras/engine/training.py\u001b[0m in \u001b[0;36mfit\u001b[0;34m(self, x, y, batch_size, epochs, verbose, callbacks, validation_split, validation_data, shuffle, class_weight, sample_weight, initial_epoch, steps_per_epoch, validation_steps, validation_batch_size, validation_freq, max_queue_size, workers, use_multiprocessing)\u001b[0m\n\u001b[1;32m   1182\u001b[0m                 _r=1):\n\u001b[1;32m   1183\u001b[0m               \u001b[0mcallbacks\u001b[0m\u001b[0;34m.\u001b[0m\u001b[0mon_train_batch_begin\u001b[0m\u001b[0;34m(\u001b[0m\u001b[0mstep\u001b[0m\u001b[0;34m)\u001b[0m\u001b[0;34m\u001b[0m\u001b[0;34m\u001b[0m\u001b[0m\n\u001b[0;32m-> 1184\u001b[0;31m               \u001b[0mtmp_logs\u001b[0m \u001b[0;34m=\u001b[0m \u001b[0mself\u001b[0m\u001b[0;34m.\u001b[0m\u001b[0mtrain_function\u001b[0m\u001b[0;34m(\u001b[0m\u001b[0miterator\u001b[0m\u001b[0;34m)\u001b[0m\u001b[0;34m\u001b[0m\u001b[0;34m\u001b[0m\u001b[0m\n\u001b[0m\u001b[1;32m   1185\u001b[0m               \u001b[0;32mif\u001b[0m \u001b[0mdata_handler\u001b[0m\u001b[0;34m.\u001b[0m\u001b[0mshould_sync\u001b[0m\u001b[0;34m:\u001b[0m\u001b[0;34m\u001b[0m\u001b[0;34m\u001b[0m\u001b[0m\n\u001b[1;32m   1186\u001b[0m                 \u001b[0mcontext\u001b[0m\u001b[0;34m.\u001b[0m\u001b[0masync_wait\u001b[0m\u001b[0;34m(\u001b[0m\u001b[0;34m)\u001b[0m\u001b[0;34m\u001b[0m\u001b[0;34m\u001b[0m\u001b[0m\n",
            "\u001b[0;32m/usr/local/lib/python3.7/dist-packages/tensorflow/python/eager/def_function.py\u001b[0m in \u001b[0;36m__call__\u001b[0;34m(self, *args, **kwds)\u001b[0m\n\u001b[1;32m    883\u001b[0m \u001b[0;34m\u001b[0m\u001b[0m\n\u001b[1;32m    884\u001b[0m       \u001b[0;32mwith\u001b[0m \u001b[0mOptionalXlaContext\u001b[0m\u001b[0;34m(\u001b[0m\u001b[0mself\u001b[0m\u001b[0;34m.\u001b[0m\u001b[0m_jit_compile\u001b[0m\u001b[0;34m)\u001b[0m\u001b[0;34m:\u001b[0m\u001b[0;34m\u001b[0m\u001b[0;34m\u001b[0m\u001b[0m\n\u001b[0;32m--> 885\u001b[0;31m         \u001b[0mresult\u001b[0m \u001b[0;34m=\u001b[0m \u001b[0mself\u001b[0m\u001b[0;34m.\u001b[0m\u001b[0m_call\u001b[0m\u001b[0;34m(\u001b[0m\u001b[0;34m*\u001b[0m\u001b[0margs\u001b[0m\u001b[0;34m,\u001b[0m \u001b[0;34m**\u001b[0m\u001b[0mkwds\u001b[0m\u001b[0;34m)\u001b[0m\u001b[0;34m\u001b[0m\u001b[0;34m\u001b[0m\u001b[0m\n\u001b[0m\u001b[1;32m    886\u001b[0m \u001b[0;34m\u001b[0m\u001b[0m\n\u001b[1;32m    887\u001b[0m       \u001b[0mnew_tracing_count\u001b[0m \u001b[0;34m=\u001b[0m \u001b[0mself\u001b[0m\u001b[0;34m.\u001b[0m\u001b[0mexperimental_get_tracing_count\u001b[0m\u001b[0;34m(\u001b[0m\u001b[0;34m)\u001b[0m\u001b[0;34m\u001b[0m\u001b[0;34m\u001b[0m\u001b[0m\n",
            "\u001b[0;32m/usr/local/lib/python3.7/dist-packages/tensorflow/python/eager/def_function.py\u001b[0m in \u001b[0;36m_call\u001b[0;34m(self, *args, **kwds)\u001b[0m\n\u001b[1;32m    915\u001b[0m       \u001b[0;31m# In this case we have created variables on the first call, so we run the\u001b[0m\u001b[0;34m\u001b[0m\u001b[0;34m\u001b[0m\u001b[0;34m\u001b[0m\u001b[0m\n\u001b[1;32m    916\u001b[0m       \u001b[0;31m# defunned version which is guaranteed to never create variables.\u001b[0m\u001b[0;34m\u001b[0m\u001b[0;34m\u001b[0m\u001b[0;34m\u001b[0m\u001b[0m\n\u001b[0;32m--> 917\u001b[0;31m       \u001b[0;32mreturn\u001b[0m \u001b[0mself\u001b[0m\u001b[0;34m.\u001b[0m\u001b[0m_stateless_fn\u001b[0m\u001b[0;34m(\u001b[0m\u001b[0;34m*\u001b[0m\u001b[0margs\u001b[0m\u001b[0;34m,\u001b[0m \u001b[0;34m**\u001b[0m\u001b[0mkwds\u001b[0m\u001b[0;34m)\u001b[0m  \u001b[0;31m# pylint: disable=not-callable\u001b[0m\u001b[0;34m\u001b[0m\u001b[0;34m\u001b[0m\u001b[0m\n\u001b[0m\u001b[1;32m    918\u001b[0m     \u001b[0;32melif\u001b[0m \u001b[0mself\u001b[0m\u001b[0;34m.\u001b[0m\u001b[0m_stateful_fn\u001b[0m \u001b[0;32mis\u001b[0m \u001b[0;32mnot\u001b[0m \u001b[0;32mNone\u001b[0m\u001b[0;34m:\u001b[0m\u001b[0;34m\u001b[0m\u001b[0;34m\u001b[0m\u001b[0m\n\u001b[1;32m    919\u001b[0m       \u001b[0;31m# Release the lock early so that multiple threads can perform the call\u001b[0m\u001b[0;34m\u001b[0m\u001b[0;34m\u001b[0m\u001b[0;34m\u001b[0m\u001b[0m\n",
            "\u001b[0;32m/usr/local/lib/python3.7/dist-packages/tensorflow/python/eager/function.py\u001b[0m in \u001b[0;36m__call__\u001b[0;34m(self, *args, **kwargs)\u001b[0m\n\u001b[1;32m   3038\u001b[0m        filtered_flat_args) = self._maybe_define_function(args, kwargs)\n\u001b[1;32m   3039\u001b[0m     return graph_function._call_flat(\n\u001b[0;32m-> 3040\u001b[0;31m         filtered_flat_args, captured_inputs=graph_function.captured_inputs)  # pylint: disable=protected-access\n\u001b[0m\u001b[1;32m   3041\u001b[0m \u001b[0;34m\u001b[0m\u001b[0m\n\u001b[1;32m   3042\u001b[0m   \u001b[0;34m@\u001b[0m\u001b[0mproperty\u001b[0m\u001b[0;34m\u001b[0m\u001b[0;34m\u001b[0m\u001b[0m\n",
            "\u001b[0;32m/usr/local/lib/python3.7/dist-packages/tensorflow/python/eager/function.py\u001b[0m in \u001b[0;36m_call_flat\u001b[0;34m(self, args, captured_inputs, cancellation_manager)\u001b[0m\n\u001b[1;32m   1962\u001b[0m       \u001b[0;31m# No tape is watching; skip to running the function.\u001b[0m\u001b[0;34m\u001b[0m\u001b[0;34m\u001b[0m\u001b[0;34m\u001b[0m\u001b[0m\n\u001b[1;32m   1963\u001b[0m       return self._build_call_outputs(self._inference_function.call(\n\u001b[0;32m-> 1964\u001b[0;31m           ctx, args, cancellation_manager=cancellation_manager))\n\u001b[0m\u001b[1;32m   1965\u001b[0m     forward_backward = self._select_forward_and_backward_functions(\n\u001b[1;32m   1966\u001b[0m         \u001b[0margs\u001b[0m\u001b[0;34m,\u001b[0m\u001b[0;34m\u001b[0m\u001b[0;34m\u001b[0m\u001b[0m\n",
            "\u001b[0;32m/usr/local/lib/python3.7/dist-packages/tensorflow/python/eager/function.py\u001b[0m in \u001b[0;36mcall\u001b[0;34m(self, ctx, args, cancellation_manager)\u001b[0m\n\u001b[1;32m    594\u001b[0m               \u001b[0minputs\u001b[0m\u001b[0;34m=\u001b[0m\u001b[0margs\u001b[0m\u001b[0;34m,\u001b[0m\u001b[0;34m\u001b[0m\u001b[0;34m\u001b[0m\u001b[0m\n\u001b[1;32m    595\u001b[0m               \u001b[0mattrs\u001b[0m\u001b[0;34m=\u001b[0m\u001b[0mattrs\u001b[0m\u001b[0;34m,\u001b[0m\u001b[0;34m\u001b[0m\u001b[0;34m\u001b[0m\u001b[0m\n\u001b[0;32m--> 596\u001b[0;31m               ctx=ctx)\n\u001b[0m\u001b[1;32m    597\u001b[0m         \u001b[0;32melse\u001b[0m\u001b[0;34m:\u001b[0m\u001b[0;34m\u001b[0m\u001b[0;34m\u001b[0m\u001b[0m\n\u001b[1;32m    598\u001b[0m           outputs = execute.execute_with_cancellation(\n",
            "\u001b[0;32m/usr/local/lib/python3.7/dist-packages/tensorflow/python/eager/execute.py\u001b[0m in \u001b[0;36mquick_execute\u001b[0;34m(op_name, num_outputs, inputs, attrs, ctx, name)\u001b[0m\n\u001b[1;32m     58\u001b[0m     \u001b[0mctx\u001b[0m\u001b[0;34m.\u001b[0m\u001b[0mensure_initialized\u001b[0m\u001b[0;34m(\u001b[0m\u001b[0;34m)\u001b[0m\u001b[0;34m\u001b[0m\u001b[0;34m\u001b[0m\u001b[0m\n\u001b[1;32m     59\u001b[0m     tensors = pywrap_tfe.TFE_Py_Execute(ctx._handle, device_name, op_name,\n\u001b[0;32m---> 60\u001b[0;31m                                         inputs, attrs, num_outputs)\n\u001b[0m\u001b[1;32m     61\u001b[0m   \u001b[0;32mexcept\u001b[0m \u001b[0mcore\u001b[0m\u001b[0;34m.\u001b[0m\u001b[0m_NotOkStatusException\u001b[0m \u001b[0;32mas\u001b[0m \u001b[0me\u001b[0m\u001b[0;34m:\u001b[0m\u001b[0;34m\u001b[0m\u001b[0;34m\u001b[0m\u001b[0m\n\u001b[1;32m     62\u001b[0m     \u001b[0;32mif\u001b[0m \u001b[0mname\u001b[0m \u001b[0;32mis\u001b[0m \u001b[0;32mnot\u001b[0m \u001b[0;32mNone\u001b[0m\u001b[0;34m:\u001b[0m\u001b[0;34m\u001b[0m\u001b[0;34m\u001b[0m\u001b[0m\n",
            "\u001b[0;31mKeyboardInterrupt\u001b[0m: "
          ]
        }
      ]
    },
    {
      "cell_type": "code",
      "metadata": {
        "id": "pTLV4zycos35"
      },
      "source": [
        "def plot_graphs(history, string):\n",
        "  plt.plot(history.history[string])\n",
        "  plt.plot(history.history['val_'+string])\n",
        "  plt.xlabel(\"Epochs\")\n",
        "  plt.ylabel(string)\n",
        "  plt.legend([string, 'val_'+string])\n",
        "  plt.show()\n",
        "  \n",
        "plot_graphs(history, \"accuracy\")\n",
        "plot_graphs(history, \"loss\")"
      ],
      "execution_count": null,
      "outputs": []
    },
    {
      "cell_type": "code",
      "metadata": {
        "id": "dlf5I6jSA40J"
      },
      "source": [
        "plt.plot(acc_per_fold)"
      ],
      "execution_count": null,
      "outputs": []
    },
    {
      "cell_type": "code",
      "metadata": {
        "id": "Ex_nf3e_Sw9g"
      },
      "source": [
        "plt.plot(loss_per_fold)"
      ],
      "execution_count": null,
      "outputs": []
    },
    {
      "cell_type": "code",
      "metadata": {
        "id": "cP63IqHLTHbE"
      },
      "source": [
        "! pip install keras-crf"
      ],
      "execution_count": null,
      "outputs": []
    },
    {
      "cell_type": "code",
      "metadata": {
        "id": "wsDLHqcM3oaW"
      },
      "source": [
        "from keras.models import Model, Input\n",
        "from keras.layers.merge import add\n",
        "from keras.layers import LSTM, Embedding, Dense, TimeDistributed, Dropout, Bidirectional, Lambda\n",
        "\n",
        "from sklearn.model_selection import train_test_split\n",
        "import tensorflow as tf\n",
        "import tensorflow_hub as hub\n",
        "from keras import backend as K\n",
        "import numpy as np"
      ],
      "execution_count": null,
      "outputs": []
    },
    {
      "cell_type": "code",
      "metadata": {
        "id": "HQw2el4G3LK9"
      },
      "source": [
        "import tensorflow as tf\n",
        "\n",
        "from keras_crf import CRFModel\n",
        "\n",
        "# build backbone model, you can use large models like BERT\n",
        "\n",
        "\n",
        "# sequence_input = tf.keras.layers.Input(shape=(None,), dtype=tf.int32, name='sequence_input')\n",
        "# outputs = tf.keras.layers.Embedding(100, 128)(sequence_input)\n",
        "# outputs = tf.keras.layers.Dense(256)(outputs)\n",
        "# base = tf.keras.Model(inputs=sequence_input, outputs=outputs)\n",
        "\n",
        "input = Input(shape=(max_len,))\n",
        "model = Embedding(input_dim=n_words, output_dim=50, input_length=max_len)(input)\n",
        "model = tf.keras.layers.Dense(256)(outputs)\n",
        "base = Model(input,model)\n",
        "\n",
        "\n",
        "# build CRFModel, 5 is num of tags\n",
        "model = CRFModel(base, 5)\n",
        "\n",
        "model = CRFModel(base, n_tags)\n",
        "\n",
        "# no need to specify a loss for CRFModel, model will compute crf loss by itself\n",
        "model.compile(\n",
        "    optimizer=tf.keras.optimizers.Adam(3e-4),\n",
        "    metrics=['acc'])\n",
        "# you can now train this model\n",
        "model.fit(X_train, np.array(y_train), epochs=10, callbacks=None)\n",
        "\n",
        "# or summary the model\n",
        "model.build(tf.TensorShape([None, 256]))\n",
        "model.summary()"
      ],
      "execution_count": null,
      "outputs": []
    },
    {
      "cell_type": "code",
      "metadata": {
        "id": "f0hHv0mF3kEb"
      },
      "source": [
        ""
      ],
      "execution_count": null,
      "outputs": []
    }
  ]
}